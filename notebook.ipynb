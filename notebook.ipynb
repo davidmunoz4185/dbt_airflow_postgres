{
 "cells": [
  {
   "cell_type": "code",
   "execution_count": 1,
   "metadata": {},
   "outputs": [],
   "source": [
    "from vanna.ollama import Ollama\n",
    "from vanna.chromadb import ChromaDB_VectorStore"
   ]
  },
  {
   "cell_type": "code",
   "execution_count": 2,
   "metadata": {},
   "outputs": [],
   "source": [
    "class MyVanna(ChromaDB_VectorStore, Ollama):\n",
    "    def __init__(self, config=None):\n",
    "        ChromaDB_VectorStore.__init__(self, config=config)\n",
    "        Ollama.__init__(self, config=config)\n",
    "\n",
    "vn = MyVanna(config={'model': 'mistral'})"
   ]
  },
  {
   "cell_type": "code",
   "execution_count": 4,
   "metadata": {},
   "outputs": [],
   "source": [
    "vn.connect_to_postgres(host='localhost', dbname='airflow', user='admin', password='admin123', port='5432')"
   ]
  },
  {
   "cell_type": "code",
   "execution_count": null,
   "metadata": {},
   "outputs": [
    {
     "name": "stderr",
     "output_type": "stream",
     "text": [
      "C:\\Users\\david.munoz_bluetab\\.cache\\chroma\\onnx_models\\all-MiniLM-L6-v2\\onnx.tar.gz: 100%|██████████| 79.3M/79.3M [00:05<00:00, 16.6MiB/s]\n"
     ]
    }
   ],
   "source": [
    "# The information schema query may need some tweaking depending on your database. This is a good starting point.\n",
    "df_information_schema = vn.run_sql(\"SELECT * FROM INFORMATION_SCHEMA.COLUMNS\")\n",
    "\n",
    "# This will break up the information schema into bite-sized chunks that can be referenced by the LLM\n",
    "plan = vn.get_training_plan_generic(df_information_schema)\n",
    "plan\n",
    "\n",
    "# If you like the plan, then uncomment this and run it to train\n",
    "vn.train(plan=plan)"
   ]
  },
  {
   "cell_type": "code",
   "execution_count": 7,
   "metadata": {},
   "outputs": [
    {
     "data": {
      "text/html": [
       "<div>\n",
       "<style scoped>\n",
       "    .dataframe tbody tr th:only-of-type {\n",
       "        vertical-align: middle;\n",
       "    }\n",
       "\n",
       "    .dataframe tbody tr th {\n",
       "        vertical-align: top;\n",
       "    }\n",
       "\n",
       "    .dataframe thead th {\n",
       "        text-align: right;\n",
       "    }\n",
       "</style>\n",
       "<table border=\"1\" class=\"dataframe\">\n",
       "  <thead>\n",
       "    <tr style=\"text-align: right;\">\n",
       "      <th></th>\n",
       "      <th>id</th>\n",
       "      <th>question</th>\n",
       "      <th>content</th>\n",
       "      <th>training_data_type</th>\n",
       "    </tr>\n",
       "  </thead>\n",
       "  <tbody>\n",
       "    <tr>\n",
       "      <th>0</th>\n",
       "      <td>22f3f921-c1c7-587e-9195-859ab3c2a765-doc</td>\n",
       "      <td>None</td>\n",
       "      <td>The following columns are in the columns table...</td>\n",
       "      <td>documentation</td>\n",
       "    </tr>\n",
       "    <tr>\n",
       "      <th>1</th>\n",
       "      <td>2f006904-7d46-5021-9460-edaf7d883377-doc</td>\n",
       "      <td>None</td>\n",
       "      <td>The following columns are in the foreign_serve...</td>\n",
       "      <td>documentation</td>\n",
       "    </tr>\n",
       "    <tr>\n",
       "      <th>2</th>\n",
       "      <td>5f738b2e-6e02-58e0-8035-dc5e8c5a2f16-doc</td>\n",
       "      <td>None</td>\n",
       "      <td>The following columns are in the role_table_gr...</td>\n",
       "      <td>documentation</td>\n",
       "    </tr>\n",
       "    <tr>\n",
       "      <th>3</th>\n",
       "      <td>bbc4e437-5da8-5555-a5e2-dfdba8426190-doc</td>\n",
       "      <td>None</td>\n",
       "      <td>The following columns are in the table_constra...</td>\n",
       "      <td>documentation</td>\n",
       "    </tr>\n",
       "    <tr>\n",
       "      <th>4</th>\n",
       "      <td>47497664-56d6-5533-8fe3-4200248bad81-doc</td>\n",
       "      <td>None</td>\n",
       "      <td>The following columns are in the attributes ta...</td>\n",
       "      <td>documentation</td>\n",
       "    </tr>\n",
       "    <tr>\n",
       "      <th>...</th>\n",
       "      <td>...</td>\n",
       "      <td>...</td>\n",
       "      <td>...</td>\n",
       "      <td>...</td>\n",
       "    </tr>\n",
       "    <tr>\n",
       "      <th>254</th>\n",
       "      <td>a69b5d1a-37b4-5c54-987c-26c85e3518af-doc</td>\n",
       "      <td>None</td>\n",
       "      <td>The following columns are in the orders table ...</td>\n",
       "      <td>documentation</td>\n",
       "    </tr>\n",
       "    <tr>\n",
       "      <th>255</th>\n",
       "      <td>48fa1107-c58c-54f4-bd69-beb7e834cc99-doc</td>\n",
       "      <td>None</td>\n",
       "      <td>The following columns are in the stg_stripe__p...</td>\n",
       "      <td>documentation</td>\n",
       "    </tr>\n",
       "    <tr>\n",
       "      <th>256</th>\n",
       "      <td>829f9305-7024-5e03-9158-42e472929bb6-doc</td>\n",
       "      <td>None</td>\n",
       "      <td>The following columns are in the stg_jaffle_sh...</td>\n",
       "      <td>documentation</td>\n",
       "    </tr>\n",
       "    <tr>\n",
       "      <th>257</th>\n",
       "      <td>8b370c28-dc1a-5346-9fa5-fd95957a9f47-doc</td>\n",
       "      <td>None</td>\n",
       "      <td>The following columns are in the stg_jaffle_sh...</td>\n",
       "      <td>documentation</td>\n",
       "    </tr>\n",
       "    <tr>\n",
       "      <th>258</th>\n",
       "      <td>2d8b10b5-7080-5625-b383-db2f400d7e6e-doc</td>\n",
       "      <td>None</td>\n",
       "      <td>The following columns are in the payment table...</td>\n",
       "      <td>documentation</td>\n",
       "    </tr>\n",
       "  </tbody>\n",
       "</table>\n",
       "<p>259 rows × 4 columns</p>\n",
       "</div>"
      ],
      "text/plain": [
       "                                           id question  \\\n",
       "0    22f3f921-c1c7-587e-9195-859ab3c2a765-doc     None   \n",
       "1    2f006904-7d46-5021-9460-edaf7d883377-doc     None   \n",
       "2    5f738b2e-6e02-58e0-8035-dc5e8c5a2f16-doc     None   \n",
       "3    bbc4e437-5da8-5555-a5e2-dfdba8426190-doc     None   \n",
       "4    47497664-56d6-5533-8fe3-4200248bad81-doc     None   \n",
       "..                                        ...      ...   \n",
       "254  a69b5d1a-37b4-5c54-987c-26c85e3518af-doc     None   \n",
       "255  48fa1107-c58c-54f4-bd69-beb7e834cc99-doc     None   \n",
       "256  829f9305-7024-5e03-9158-42e472929bb6-doc     None   \n",
       "257  8b370c28-dc1a-5346-9fa5-fd95957a9f47-doc     None   \n",
       "258  2d8b10b5-7080-5625-b383-db2f400d7e6e-doc     None   \n",
       "\n",
       "                                               content training_data_type  \n",
       "0    The following columns are in the columns table...      documentation  \n",
       "1    The following columns are in the foreign_serve...      documentation  \n",
       "2    The following columns are in the role_table_gr...      documentation  \n",
       "3    The following columns are in the table_constra...      documentation  \n",
       "4    The following columns are in the attributes ta...      documentation  \n",
       "..                                                 ...                ...  \n",
       "254  The following columns are in the orders table ...      documentation  \n",
       "255  The following columns are in the stg_stripe__p...      documentation  \n",
       "256  The following columns are in the stg_jaffle_sh...      documentation  \n",
       "257  The following columns are in the stg_jaffle_sh...      documentation  \n",
       "258  The following columns are in the payment table...      documentation  \n",
       "\n",
       "[259 rows x 4 columns]"
      ]
     },
     "execution_count": 7,
     "metadata": {},
     "output_type": "execute_result"
    }
   ],
   "source": [
    "training_data = vn.get_training_data()\n",
    "training_data"
   ]
  },
  {
   "cell_type": "code",
   "execution_count": 8,
   "metadata": {},
   "outputs": [
    {
     "name": "stdout",
     "output_type": "stream",
     "text": [
      "Your app is running at:\n",
      "http://localhost:8084\n",
      " * Serving Flask app 'vanna.flask'\n",
      " * Debug mode: on\n"
     ]
    }
   ],
   "source": [
    "from vanna.flask import VannaFlaskApp\n",
    "app = VannaFlaskApp(vn)\n",
    "app.run()"
   ]
  }
 ],
 "metadata": {
  "kernelspec": {
   "display_name": ".venv",
   "language": "python",
   "name": "python3"
  },
  "language_info": {
   "codemirror_mode": {
    "name": "ipython",
    "version": 3
   },
   "file_extension": ".py",
   "mimetype": "text/x-python",
   "name": "python",
   "nbconvert_exporter": "python",
   "pygments_lexer": "ipython3",
   "version": "3.12.9"
  }
 },
 "nbformat": 4,
 "nbformat_minor": 2
}
